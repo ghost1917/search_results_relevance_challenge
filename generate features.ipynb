{
 "cells": [
  {
   "cell_type": "markdown",
   "metadata": {},
   "source": [
    "# Подготовка данных"
   ]
  },
  {
   "cell_type": "code",
   "execution_count": 25,
   "metadata": {
    "collapsed": false
   },
   "outputs": [],
   "source": [
    "import pandas as pd\n",
    "import numpy as np\n",
    "\n",
    "# basic preprocessing\n",
    "col_types = {u'id': np.int, u'query': np.str, u'product_title': np.str,\n",
    "             u'product_description': np.str, u'median_relevance': np.int, u'relevance_variance': np.float}\n",
    "srt_lowerizer = lambda s: s.lower()\n",
    "\n",
    "convertors = {u'query': srt_lowerizer, u'product_title': srt_lowerizer, u'product_description': srt_lowerizer}\n",
    "\n",
    "df = pd.concat([pd.read_csv('train.csv', dtype=col_types, converters=convertors, index_col=u'id'), \\\n",
    "                pd.read_csv('test.csv',  dtype=col_types, converters=convertors, index_col=u'id')])"
   ]
  },
  {
   "cell_type": "markdown",
   "metadata": {},
   "source": [
    "Статистика оценок"
   ]
  },
  {
   "cell_type": "code",
   "execution_count": 93,
   "metadata": {
    "collapsed": false
   },
   "outputs": [
    {
     "data": {
      "text/plain": [
       "<matplotlib.axes._subplots.AxesSubplot at 0x55fc3320>"
      ]
     },
     "execution_count": 93,
     "metadata": {},
     "output_type": "execute_result"
    },
    {
     "data": {
      "image/png": "[encoded data removed]",
      "text/plain": [
       "<matplotlib.figure.Figure at 0x24f57400>"
      ]
     },
     "metadata": {},
     "output_type": "display_data"
    }
   ],
   "source": [
    "%matplotlib inline\n",
    "df[~df.median_relevance.isnull()].median_relevance.hist()"
   ]
  },
  {
   "cell_type": "markdown",
   "metadata": {},
   "source": [
    "Загружаем простейшие статистики \n",
    " - длины текстов\n",
    " - наличие описания"
   ]
  },
  {
   "cell_type": "code",
   "execution_count": 26,
   "metadata": {
    "collapsed": true
   },
   "outputs": [],
   "source": [
    "df['q_len'] = df['query'].apply(lambda s: len(s))\n",
    "df['t_len'] = df['product_title'].apply(lambda s: len(s))\n",
    "df['d_len'] = df['product_description'].apply(lambda s: len(s))\n",
    "df['d_loglen'] = df['product_description'].apply(lambda s: np.log(len(s) + 1))\n",
    "df['d_exist'] = df['product_description'].apply(lambda s: 1.0 if len(s) > 0 else 0.0)"
   ]
  },
  {
   "cell_type": "markdown",
   "metadata": {},
   "source": [
    "- Очищаем тексты от html разметки<br>\n",
    "- убираем все нелатинские символы<br>\n",
    "- делим описание на клаузы<br>\n",
    "- нормализуем, убираем стопслова"
   ]
  },
  {
   "cell_type": "code",
   "execution_count": 47,
   "metadata": {
    "collapsed": false
   },
   "outputs": [],
   "source": [
    "from bs4 import BeautifulSoup\n",
    "import re\n",
    "nonlatin = re.compile (ur'[^a-zA-Z0-9 ]')\n",
    "space =  re.compile (ur'\\s+')\n",
    "\n",
    "df['query'] = df['query'].apply (lambda x: space.sub(u' ', x))\n",
    "df['query'] = df['query'].apply (lambda x: nonlatin.sub(u'', x))\n",
    "\n",
    "df['product_title'] = df['product_title'].apply (lambda x: BeautifulSoup(x).getText())\n",
    "df['product_title'] = df['product_title'].apply (lambda x: space.sub(u' ', x))\n",
    "df['product_title'] = df['product_title'].apply (lambda x: nonlatin.sub(u'', x))\n",
    "\n",
    "\n",
    "df['product_description'] = df['product_description'].apply (lambda x: BeautifulSoup(x).getText())\n",
    "df['product_description_clauses'] = df['product_description'].apply (lambda x: re.split('[\\n,\\.!?;]', x))\n",
    "df['product_description_clauses'] = df['product_description_clauses'].apply (lambda x: map (lambda y: space.sub(u' ', y), x))\n",
    "df['product_description_clauses'] = df['product_description_clauses'].apply (lambda x: map (lambda y: nonlatin.sub(u'', y), x))\n",
    "df['product_description_clauses'] = df['product_description_clauses'].apply (lambda x: map (lambda y: y.strip(), x))\n",
    "df['product_description_clauses'] = df['product_description_clauses'].apply (lambda x: filter (lambda y:len(y)>0,x))\n",
    "\n",
    "\n",
    "df['product_description'] = df['product_description'].apply (lambda x: space.sub(u' ', x))\n",
    "df['product_description'] = df['product_description'].apply (lambda x: nonlatin.sub(u'', x))"
   ]
  },
  {
   "cell_type": "code",
   "execution_count": 48,
   "metadata": {
    "collapsed": false
   },
   "outputs": [],
   "source": [
    "from nltk.corpus import stopwords\n",
    "from nltk.stem import PorterStemmer\n",
    "\n",
    "stopwords_set = set(stopwords.words('english') + ['http','www','img','border','0','1','2','3','4','5','6','7','8','9'])\n",
    "\n",
    "stemmer = PorterStemmer()\n",
    "\n",
    "def remove_stopwords_and_stem (s):\n",
    "    return ' '.join ([stemmer.stem (w) for w in s.split(' ') if w not in stopwords_set])\n",
    "\n",
    "df['product_description'] = df['product_description'].apply(remove_stopwords_and_stem)\n",
    "df['product_title'] = df['product_title'].apply(remove_stopwords_and_stem)\n",
    "df['query'] = df['query'].apply(remove_stopwords_and_stem)\n",
    "df['product_description_clauses'] = df['product_description_clauses'].apply (lambda x: map(remove_stopwords_and_stem ,x))\n"
   ]
  },
  {
   "cell_type": "markdown",
   "metadata": {},
   "source": [
    "Следующие фичи - количество слов, количество клауз"
   ]
  },
  {
   "cell_type": "code",
   "execution_count": 49,
   "metadata": {
    "collapsed": false
   },
   "outputs": [],
   "source": [
    "df['q_words'] = df['query'].apply (lambda x: len(x.split(' ')))\n",
    "df['d_words'] = df['product_description'].apply (lambda x: len(x.split(' ')))\n",
    "df['t_words'] = df['product_title'].apply (lambda x: len(x.split(' ')))\n",
    "df['d_clauses'] = df['product_description_clauses'].apply (lambda x: len(x))"
   ]
  },
  {
   "cell_type": "markdown",
   "metadata": {},
   "source": [
    "## Меры близости запроса и заголовка / описания\n",
    "- число слов запроса в заголовке / описании"
   ]
  },
  {
   "cell_type": "code",
   "execution_count": 56,
   "metadata": {
    "collapsed": false
   },
   "outputs": [],
   "source": [
    "def a_in_b_cnt (a_set, b_set):\n",
    "    ab_intersection = len(a_set.intersection(b_set))\n",
    "    return 1. * ab_intersection / len(b_set)\n",
    "\n",
    "df[\"q_in_t\"] = df.apply(lambda x: a_in_b_cnt(set(x['query'].split(' ')), \n",
    "                                             set(x['product_title'].split(' '))), axis=1)\n",
    "\n",
    "df[\"q_in_d\"] = df.apply(lambda x: a_in_b_cnt(set(x['query'].split(' ')), \n",
    "                                             set(x['product_description'].split(' '))), axis=1)"
   ]
  },
  {
   "cell_type": "markdown",
   "metadata": {},
   "source": [
    "- мера жоккара между запросом и заголовком / описанием\n"
   ]
  },
  {
   "cell_type": "code",
   "execution_count": 57,
   "metadata": {
    "collapsed": true
   },
   "outputs": [],
   "source": [
    "def jaccard (a_set, b_set):\n",
    "    ab_intersection = len(a_set.intersection(b_set))\n",
    "    return 1. * ab_intersection / (len(a_set) + len(b_set) - ab_intersection)\n",
    "\n",
    "\n",
    "df[\"q_jac_t\"] = df.apply(lambda x: jaccard(set(x['query'].split(' ')), \n",
    "                                           set(x['product_title'].split(' '))), axis=1)\n",
    "\n",
    "df[\"q_jac_d\"] = df.apply(lambda x: jaccard(set(x['query'].split(' ')), \n",
    "                                           set(x['product_description'].split(' '))), axis=1)"
   ]
  },
  {
   "cell_type": "markdown",
   "metadata": {},
   "source": [
    "- перекрытие с запросом / описанием"
   ]
  },
  {
   "cell_type": "code",
   "execution_count": 58,
   "metadata": {
    "collapsed": true
   },
   "outputs": [],
   "source": [
    "def overlap (a_set, b_set):\n",
    "    ab_intersection = len(a_set.intersection(b_set))\n",
    "    return 1. * ab_intersection / min(len(a_set),len(b_set))\n",
    "\n",
    "\n",
    "df[\"q_over_t\"] = df.apply(lambda x: overlap(set(x['query'].split(' ')), \n",
    "                                            set(x['product_title'].split(' '))), axis=1)\n",
    "\n",
    "df[\"q_over_d\"] = df.apply(lambda x: overlap(set(x['query'].split(' ')), \n",
    "                                            set(x['product_description'].split(' '))), axis=1)"
   ]
  },
  {
   "cell_type": "markdown",
   "metadata": {},
   "source": [
    "- косинусная близость в пространстве топиков\n",
    "\n",
    "(расскладывать на топики можно по разному. <br>\n",
    "Сохраняем результаты для 1- и 2-граммов, <br>\n",
    "размерностей пространства топиков от 100 до 500)"
   ]
  },
  {
   "cell_type": "code",
   "execution_count": 21,
   "metadata": {
    "collapsed": true
   },
   "outputs": [],
   "source": [
    "def cos_sim(a_ar, b_ar):\n",
    "    v = (a_ar*b_ar).sum(axis=1)/np.sqrt((a_ar**2).sum(axis=1) * (b_ar**2).sum(axis=1))\n",
    "    v[np.isnan(v)] = 0\n",
    "    return v"
   ]
  },
  {
   "cell_type": "code",
   "execution_count": null,
   "metadata": {
    "collapsed": false
   },
   "outputs": [],
   "source": [
    "from sklearn.feature_extraction.text import TfidfVectorizer\n",
    "from sklearn.decomposition import TruncatedSVD\n",
    "\n",
    "ngram_range_max_grid = [1, 2]\n",
    "svd_n_components_grid = [100, 200, 300, 400, 500]\n",
    "\n",
    "for ngram_range_max in ngram_range_max_grid:\n",
    "    for svd_n_components in svd_n_components_grid:\n",
    "        print '%i - %i' % (ngram_range_max, svd_n_components)\n",
    "        tfv = TfidfVectorizer(analyzer='word', \n",
    "                              ngram_range=(1, ngram_range_max),\n",
    "                              sublinear_tf=1, \n",
    "                              use_idf=1, \n",
    "                              smooth_idf=1,\n",
    "                              token_pattern=r'\\w{1,}', \n",
    "                              min_df=3)\n",
    "        \n",
    "        all_texts = list([t for t in df['query'].values.tolist() if len(t) > 0])\n",
    "        all_texts.extend([t for t in df['product_title'].values.tolist() if len(t) > 0])\n",
    "        \n",
    "        tfv = tfv.fit(all_texts)\n",
    "        tf_idf_all_texts = tfv.transform(all_texts)\n",
    "        svd = TruncatedSVD(n_components=svd_n_components)\n",
    "        svd = svd.fit(tf_idf_all_texts)\n",
    "\n",
    "        q_nss_tfidf_svd = svd.transform(tfv.transform(df['query'].values.tolist()))\n",
    "        t_nss_tfidf_svd = svd.transform(tfv.transform(df['product_title'].values.tolist()))\n",
    "\n",
    "        df['cos_qt_tfidf%i_svd%i' % (ngram_range_max, svd_n_components)] = cos_sim(q_nss_tfidf_svd, t_nss_tfidf_svd)\n",
    "        df['cos_qt_tfidf%i_svd%i' % (ngram_range_max, svd_n_components)] = \\\n",
    "            df['cos_qt_tfidf%i_svd%i' % (ngram_range_max, svd_n_components)].fillna(0)\n",
    "       \n",
    "        tfv = TfidfVectorizer(analyzer='word', ngram_range=(1, ngram_range_max),\n",
    "                              sublinear_tf=1, use_idf=1, smooth_idf=1,\n",
    "                              token_pattern=r'\\w{1,}', min_df=3)\n",
    "\n",
    "        all_texts = list([t for t in df['query'].values.tolist() if len(t) > 0])\n",
    "        all_texts.extend([t for t in df['product_description'].values.tolist() if len(t) > 0])\n",
    "        \n",
    "        tfv = tfv.fit(all_texts)\n",
    "        tf_idf_all_texts = tfv.transform(all_texts)\n",
    "        \n",
    "        svd = TruncatedSVD(n_components=svd_n_components)\n",
    "        svd = svd.fit(tf_idf_all_texts)\n",
    "\n",
    "        q_nss_tfidf_svd = svd.transform(tfv.transform(df['query'].values.tolist()))\n",
    "        d_nss_tfidf_svd = svd.transform(tfv.transform(df['product_description'].values.tolist()))\n",
    " \n",
    "        df['cos_qd_tfidf%i_svd%i' % (ngram_range_max, svd_n_components)] = cos_sim(q_nss_tfidf_svd, d_nss_tfidf_svd)\n",
    "        df['cos_qd_tfidf%i_svd%i' % (ngram_range_max, svd_n_components)] = \\\n",
    "            df['cos_qd_tfidf%i_svd%i' % (ngram_range_max, svd_n_components)].fillna(0)\n",
    " \n",
    "\n",
    "        ds_nss_tfidf_svd_cos = []\n",
    "        for i in range(df.shape[0]):\n",
    "            if len(df['product_description_clauses'].values[i]) == 0:\n",
    "                ds_nss_tfidf_svd_cos.append(np.array([0]))\n",
    "                continue\n",
    "                \n",
    "            tmp_q = np.repeat(q_nss_tfidf_svd[i, :], \n",
    "                              len(df['product_description_clauses'].values[i]))\\\n",
    "                      .reshape((len(df['product_description_clauses'].values[i]), \n",
    "                                q_nss_tfidf_svd.shape[1]), \n",
    "                               order='F')\n",
    "            tmp_d = svd.transform(tfv.transform(df['product_description_clauses'].values[i]))\n",
    "            \n",
    "            ds_nss_tfidf_svd_cos.append(cos_sim(tmp_q, tmp_d))\n",
    " \n",
    "        df['cos_min_qd_tfidf%i_svd%i' % (ngram_range_max, svd_n_components)] = \\\n",
    "            map(lambda v: np.min(v), ds_nss_tfidf_svd_cos)\n",
    "        df['cos_max_qd_tfidf%i_svd%i' % (ngram_range_max, svd_n_components)] = \\\n",
    "            map(lambda v: np.max(v), ds_nss_tfidf_svd_cos)\n",
    "        df['cos_mean_qd_tfidf%i_svd%i' % (ngram_range_max, svd_n_components)] = \\\n",
    "            map(lambda v: np.mean(v), ds_nss_tfidf_svd_cos)\n",
    "        df['cos_median_qd_tfidf%i_svd%i' % (ngram_range_max, svd_n_components)] = \\\n",
    "            map(lambda v: np.median(v), ds_nss_tfidf_svd_cos)"
   ]
  },
  {
   "cell_type": "markdown",
   "metadata": {},
   "source": [
    "- метрика качества ранжирования okapi bm25 (тоже для N-граммов разной длинны)"
   ]
  },
  {
   "cell_type": "code",
   "execution_count": 61,
   "metadata": {
    "collapsed": true
   },
   "outputs": [],
   "source": [
    "from sklearn.feature_extraction.text import CountVectorizer\n",
    "\n",
    "# Okapi BM25\n",
    "class OkapiBM25:\n",
    "    vectorizer = None\n",
    "    documents_cnt = 1\n",
    "    word_doc_freq = {}\n",
    "    k = 1.5\n",
    "    b = 0.75\n",
    "    avgdl = 0\n",
    "   \n",
    "    def __init__(self, max_n_gram=2, k=1.5, b=0.75):\n",
    "        self.vectorizer = CountVectorizer(analyzer='word', \n",
    "                                          ngram_range=(1, max_n_gram), \n",
    "                                          stop_words=None)\n",
    "        self.k = k        \n",
    "        self.b = b\n",
    "   \n",
    "    def fit(self, X):\n",
    "        self.documents_cnt = X.shape[0]\n",
    "        X = self.vectorizer.fit_transform(X)\n",
    "        self.avgdl = 1. * X.sum() / self.documents_cnt\n",
    "        \n",
    "        self.word_doc_freq = dict(\n",
    "            zip(map(lambda p: p[0], \n",
    "                    sorted(self.vectorizer.vocabulary_.items(), \n",
    "                           key=lambda p: p[1])),\n",
    "                np.array(X.sum(axis=0), \n",
    "                         dtype=np.int).flatten().tolist()))\n",
    "           \n",
    "    def idf(self, w):\n",
    "        n = self.word_doc_freq[w] if w in self.word_doc_freq else 0\n",
    "        return np.log((self.documents_cnt - n + 0.5)/(n + 0.5))\n",
    "   \n",
    "    def f(self, w, d):\n",
    "        return sum(map(lambda x: 1 if x == w else 0, d.split()))\n",
    "   \n",
    "    def score_word(self, w, d):\n",
    "        fqd = self.f(w, d)\n",
    "        return self.idf(w) * (fqd * (self.k + 1))/(fqd + self.k*(1 - self.b + self.b*(len(d.split()))/self.avgdl))\n",
    "   \n",
    "    def score_query(self, q, d):\n",
    "        return sum(map(lambda w: self.score_word(w, d), q.split()))"
   ]
  },
  {
   "cell_type": "code",
   "execution_count": null,
   "metadata": {
    "collapsed": false
   },
   "outputs": [],
   "source": [
    "ngram_range_max_grid = range(1, 4)\n",
    "for ngram_range_max in ngram_range_max_grid:\n",
    "    print ngram_range_max\n",
    "   \n",
    "    obm25 = OkapiBM25(max_n_gram=ngram_range_max)\n",
    "    obm25.fit(df['product_title'].values)\n",
    "    df['obm25_%i_qt' % ngram_range_max] = \\\n",
    "        map(lambda p: obm25.score_query(p[0], p[1]), zip(df['query'].values, df['product_title'].values))\n",
    "   \n",
    "    obm25 = OkapiBM25(max_n_gram=ngram_range_max)\n",
    "    obm25.fit(df['product_description'].values)\n",
    "    df['obm25_%i_qd' % ngram_range_max] = \\\n",
    "        map(lambda p: obm25.score_query(p[0], p[1]), zip(df['query'].values, df['product_description'].values))\n",
    "   \n",
    "    sent_scores = map(lambda p: np.array(map(lambda d: obm25.score_query(p[0], d), p[1])),\n",
    "                      zip(df['query'].values, df['product_description_clauses'].values))\n",
    "   \n",
    "    df['obm25_%i_min_qd' % ngram_range_max] = map(lambda v: np.min(v) if len(v) > 0 else 0, sent_scores)\n",
    "    df['obm25_%i_max_qd' % ngram_range_max] = map(lambda v: np.max(v) if len(v) > 0 else 0, sent_scores)\n",
    "    df['obm25_%i_mean_qd' % ngram_range_max] = map(lambda v: np.mean(v) if len(v) > 0 else 0, sent_scores)\n",
    "    df['obm25_%i_median_qd' % ngram_range_max] = map(lambda v: np.median(v) if len(v) > 0 else 0, sent_scores)"
   ]
  },
  {
   "cell_type": "markdown",
   "metadata": {},
   "source": [
    "- сходство через редакторское расстояние (для поиска опечаток)"
   ]
  },
  {
   "cell_type": "code",
   "execution_count": 63,
   "metadata": {
    "collapsed": true
   },
   "outputs": [],
   "source": [
    "from difflib import SequenceMatcher\n",
    "\n",
    "def editorDistance (query, text, threshold=0.5):\n",
    "    query_tokens = query.split(\" \")\n",
    "    text_tokens = text.split(\" \")\n",
    "    distance = [[SequenceMatcher (None, qt, tt).ratio() \n",
    "                 for tt in text_tokens] \n",
    "                 for qt in query_tokens] \n",
    "    distance = map (lambda x: max(x), distance)\n",
    "    distance = map (lambda x: 0 if x<threshold else x, distance)\n",
    "    return float(sum(distance))/len(query_tokens)\n",
    "    \n",
    "df['ed_q_to_t'] = df.apply (lambda x: editorDistance(x['query'],x['product_title']), axis = 1)\n",
    "df['ed_q_to_d'] = df.apply (lambda x: editorDistance(x['query'],x['product_description']), axis = 1)"
   ]
  },
  {
   "cell_type": "markdown",
   "metadata": {},
   "source": [
    "## Кластеризация запросов\n",
    "в обучающей и в тестовой выборке присутствуют одни и те же запросы<br>\n",
    "поэтому можно разделить запросы на группы (кластеризовать) по <br>\n",
    "распределению  ответов на запросы по оценкам"
   ]
  },
  {
   "cell_type": "code",
   "execution_count": 65,
   "metadata": {
    "collapsed": false
   },
   "outputs": [],
   "source": [
    "queries_relevance_stat = df[~df.median_relevance.isnull()][['query','median_relevance']]\\\n",
    "                            .groupby (['query','median_relevance'])[\"query\"].count()\n",
    "\n",
    "queries_stat = df[~df.median_relevance.isnull()].groupby(['query'])['query'].count()\n",
    "queries_distribution = queries_relevance_stat.divide(queries_stat, level=0).unstack().fillna(0)\n",
    "\n",
    "# Используем алгоритм кластеризации MeanShift\n",
    "from sklearn.cluster import MeanShift\n",
    "clusterer = MeanShift(bandwidth=0.125)\n",
    "labels    = clusterer.fit_predict(queries_distribution.values)\n",
    "\n",
    "query2cluster = dict (zip (list(queries_distribution.index), list(labels)))\n",
    "df ['query_cluster'] = df['query'].apply(lambda x: query2cluster[x])"
   ]
  },
  {
   "cell_type": "markdown",
   "metadata": {},
   "source": [
    "По медиане и дисперсии можно определить, какие оценки выставлялись ассесорами.<br>\n",
    "Используем оценки и их доли для более точной кластеризации"
   ]
  },
  {
   "cell_type": "code",
   "execution_count": 80,
   "metadata": {
    "collapsed": false
   },
   "outputs": [],
   "source": [
    "# Кластеризуем запросы с разложением по релевантности\n",
    "restored_relevance = pd.read_csv('restored_relevance_train.csv', dtype=col_types)\n",
    "\n",
    "query_with_relevance = df [~df.median_relevance.isnull()]\\\n",
    "                            .reset_index()\\\n",
    "                            .merge (restored_relevance, on=\"id\")\\\n",
    "                            [[\"query\", 'relevance', 'weight']]\n",
    "\n",
    "queries_relevance_stat = query_with_relevance.groupby (['query','relevance'])[\"weight\"].sum()\n",
    "queries_stat = query_with_relevance.groupby (['query'])[\"weight\"].sum()\n",
    "\n",
    "queries_distribution = queries_relevance_stat.divide(queries_stat, level=0).unstack().fillna(0)\n",
    "\n",
    "from sklearn.cluster import MeanShift\n",
    "clusterer = MeanShift(bandwidth=0.125)\n",
    "labels    = clusterer.fit_predict(queries_distribution.values)\n",
    "\n",
    "query2cluster = dict (zip (list(queries_distribution.index), list(labels)))\n",
    "df ['query_rel_cluster'] = df['query'].apply(lambda x: query2cluster[x])"
   ]
  },
  {
   "cell_type": "markdown",
   "metadata": {},
   "source": [
    "## Сохранение результатов"
   ]
  },
  {
   "cell_type": "code",
   "execution_count": 83,
   "metadata": {
    "collapsed": false
   },
   "outputs": [],
   "source": [
    "df[~df.median_relevance.isnull()].to_csv(\"clean_train.csv\")\n",
    "df[df.median_relevance.isnull()].drop (['median_relevance','relevance_variance'], axis=1).to_csv (\"clean_test.csv\")"
   ]
  }
 ],
 "metadata": {
  "kernelspec": {
   "display_name": "Python 2",
   "language": "python",
   "name": "python2"
  },
  "language_info": {
   "codemirror_mode": {
    "name": "ipython",
    "version": 2
   },
   "file_extension": ".py",
   "mimetype": "text/x-python",
   "name": "python",
   "nbconvert_exporter": "python",
   "pygments_lexer": "ipython2",
   "version": "2.7.9"
  }
 },
 "nbformat": 4,
 "nbformat_minor": 0
}
